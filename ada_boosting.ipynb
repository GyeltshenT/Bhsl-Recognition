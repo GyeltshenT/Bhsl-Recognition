{
 "cells": [
  {
   "cell_type": "code",
   "execution_count": 1,
   "metadata": {},
   "outputs": [],
   "source": [
    "import numpy as np\n",
    "from sklearn.model_selection import train_test_split, GridSearchCV\n",
    "from sklearn.ensemble import RandomForestClassifier, GradientBoostingClassifier, StackingClassifier\n",
    "from sklearn.linear_model import LogisticRegression\n",
    "from sklearn.svm import SVC\n",
    "from sklearn.preprocessing import StandardScaler\n",
    "from sklearn.metrics import classification_report\n",
    "from sklearn.pipeline import make_pipeline\n",
    "import pickle"
   ]
  },
  {
   "cell_type": "code",
   "execution_count": 2,
   "metadata": {},
   "outputs": [],
   "source": [
    "#AdaBoost meta estimator\n",
    "from sklearn.ensemble import AdaBoostClassifier\n",
    "\n",
    "#Base Model, chosen decision tree\n",
    "from sklearn.tree import DecisionTreeClassifier\n",
    "\n",
    "from sklearn.metrics import accuracy_score, classification_report, confusion_matrix\n"
   ]
  },
  {
   "cell_type": "code",
   "execution_count": 4,
   "metadata": {},
   "outputs": [
    {
     "name": "stdout",
     "output_type": "stream",
     "text": [
      "Features shape: (2847, 4096)\n",
      "Labels shape: (2847,)\n"
     ]
    },
    {
     "name": "stderr",
     "output_type": "stream",
     "text": [
      "c:\\Users\\Dell\\AppData\\Local\\Programs\\Python\\Python312\\Lib\\site-packages\\sklearn\\ensemble\\_weight_boosting.py:519: FutureWarning: The SAMME.R algorithm (the default) is deprecated and will be removed in 1.6. Use the SAMME algorithm to circumvent this warning.\n",
      "  warnings.warn(\n"
     ]
    },
    {
     "name": "stdout",
     "output_type": "stream",
     "text": [
      "Accuracy: 0.3351\n",
      "Classification Report:\n",
      "              precision    recall  f1-score   support\n",
      "\n",
      "           0       0.27      0.19      0.22        86\n",
      "           1       0.15      0.06      0.09        66\n",
      "           2       0.75      0.59      0.66        73\n",
      "           3       0.21      0.65      0.32        84\n",
      "           4       0.78      0.71      0.74        59\n",
      "           5       0.07      0.03      0.04        61\n",
      "           6       0.17      0.07      0.10        67\n",
      "           7       0.45      0.32      0.38        74\n",
      "\n",
      "    accuracy                           0.34       570\n",
      "   macro avg       0.36      0.33      0.32       570\n",
      "weighted avg       0.35      0.34      0.32       570\n",
      "\n",
      "Confusion Matrix:\n",
      "[[16  4  4 46  2  7  3  4]\n",
      " [13  4  3 36  2  2  2  4]\n",
      " [ 2  6 43  2  5 11  4  0]\n",
      " [ 8  3  3 55  1  2  5  7]\n",
      " [ 7  3  0  1 42  3  1  2]\n",
      " [ 4  1  3 37  2  2  6  6]\n",
      " [ 4  3  0 47  0  2  5  6]\n",
      " [ 6  3  1 36  0  1  3 24]]\n"
     ]
    }
   ],
   "source": [
    "import numpy as np\n",
    "from sklearn.ensemble import AdaBoostClassifier\n",
    "from sklearn.tree import DecisionTreeClassifier\n",
    "from sklearn.model_selection import train_test_split\n",
    "from sklearn.metrics import classification_report, accuracy_score, confusion_matrix\n",
    "import pickle\n",
    "\n",
    "# Load dataset\n",
    "features = np.load('features.npy')\n",
    "labels = np.load('target.npy')\n",
    "\n",
    "# Check the shapes of the arrays\n",
    "print(f'Features shape: {features.shape}')\n",
    "print(f'Labels shape: {labels.shape}')\n",
    "\n",
    "# Ensure the number of samples matches\n",
    "if features.shape[0] != labels.shape[0]:\n",
    "    raise ValueError(f'Mismatched number of samples: {features.shape[0]} in features, {labels.shape[0]} in labels')\n",
    "\n",
    "# Split the dataset into training and testing sets\n",
    "X_train, X_test, y_train, y_test = train_test_split(features, labels, test_size=0.2, random_state=42)\n",
    "\n",
    "# Initialize the base model\n",
    "base_model = DecisionTreeClassifier(max_depth=1)\n",
    "\n",
    "# Initialize the AdaBoost classifier with the base model\n",
    "ada_model = AdaBoostClassifier(estimator=base_model, n_estimators=50, random_state=42)\n",
    "\n",
    "# Train the model\n",
    "ada_model.fit(X_train, y_train)\n",
    "\n",
    "# Make predictions\n",
    "y_pred = ada_model.predict(X_test)\n",
    "\n",
    "# Evaluate the model\n",
    "accuracy = accuracy_score(y_test, y_pred)\n",
    "print(f'Accuracy: {accuracy:.4f}')\n",
    "\n",
    "# Print classification report\n",
    "print('Classification Report:')\n",
    "print(classification_report(y_test, y_pred))\n",
    "\n",
    "# Print confusion matrix\n",
    "print('Confusion Matrix:')\n",
    "print(confusion_matrix(y_test, y_pred))\n",
    "\n",
    "# Save the trained model using pickle\n",
    "with open('ada_model.pkl', 'wb') as f:\n",
    "    pickle.dump(ada_model, f)\n"
   ]
  },
  {
   "cell_type": "code",
   "execution_count": 7,
   "metadata": {},
   "outputs": [
    {
     "name": "stderr",
     "output_type": "stream",
     "text": [
      "c:\\Users\\Dell\\AppData\\Local\\Programs\\Python\\Python312\\Lib\\site-packages\\sklearn\\ensemble\\_weight_boosting.py:519: FutureWarning: The SAMME.R algorithm (the default) is deprecated and will be removed in 1.6. Use the SAMME algorithm to circumvent this warning.\n",
      "  warnings.warn(\n"
     ]
    },
    {
     "name": "stdout",
     "output_type": "stream",
     "text": [
      "Testing Accuracy: 0.3351\n",
      "Training Accuracy: 0.3351\n",
      "Classification Report:\n",
      "              precision    recall  f1-score   support\n",
      "\n",
      "           0       0.37      0.38      0.38        86\n",
      "           1       0.27      0.18      0.22        66\n",
      "           2       0.76      0.73      0.74        73\n",
      "           3       0.28      0.15      0.20        84\n",
      "           4       0.84      0.78      0.81        59\n",
      "           5       0.22      0.59      0.32        61\n",
      "           6       0.31      0.18      0.23        67\n",
      "           7       0.41      0.34      0.37        74\n",
      "\n",
      "    accuracy                           0.40       570\n",
      "   macro avg       0.43      0.42      0.41       570\n",
      "weighted avg       0.42      0.40      0.40       570\n",
      "\n",
      "Confusion Matrix:\n",
      "[[33  2  5  9  1 28  3  5]\n",
      " [14 12  3  8  0 15  7  7]\n",
      " [ 2  0 53  3  8  3  3  1]\n",
      " [14 10  3 13  0 34  3  7]\n",
      " [ 5  1  0  1 46  3  0  3]\n",
      " [ 4  0  5  3  0 36  7  6]\n",
      " [ 9 11  0  4  0 24 12  7]\n",
      " [ 8  8  1  6  0 22  4 25]]\n"
     ]
    }
   ],
   "source": [
    "# Initialize the AdaBoost classifier with increased number of estimators and tuned learning rate\n",
    "ada_model = AdaBoostClassifier(n_estimators=1000, learning_rate=1, random_state=42)\n",
    "\n",
    "# Train the model\n",
    "ada_model.fit(X_train, y_train)\n",
    "\n",
    "# Make predictions on the testing set\n",
    "y_pred = ada_model.predict(X_test)\n",
    "y_train_pred = ada_model.predict(X_train)\n",
    "\n",
    "# Evaluate the model\n",
    "test_accuracy = accuracy_score(y_test, y_pred)\n",
    "print(f'Testing Accuracy: {accuracy:.4f}')\n",
    "train_accuracy = accuracy_score(y_train, y_train_pred)\n",
    "print(f'Training Accuracy: {accuracy:.4f}')\n",
    "\n",
    "# Print classification report\n",
    "print('Classification Report:')\n",
    "print(classification_report(y_test, y_pred))\n",
    "\n",
    "# Print confusion matrix\n",
    "print('Confusion Matrix:')\n",
    "print(confusion_matrix(y_test, y_pred))\n",
    "\n",
    "# Save the trained model using pickle\n",
    "with open('ada_model.pkl', 'wb') as f:\n",
    "    pickle.dump(ada_model, f)"
   ]
  },
  {
   "cell_type": "code",
   "execution_count": null,
   "metadata": {},
   "outputs": [],
   "source": []
  }
 ],
 "metadata": {
  "kernelspec": {
   "display_name": "Python 3",
   "language": "python",
   "name": "python3"
  },
  "language_info": {
   "codemirror_mode": {
    "name": "ipython",
    "version": 3
   },
   "file_extension": ".py",
   "mimetype": "text/x-python",
   "name": "python",
   "nbconvert_exporter": "python",
   "pygments_lexer": "ipython3",
   "version": "3.12.3"
  }
 },
 "nbformat": 4,
 "nbformat_minor": 2
}
