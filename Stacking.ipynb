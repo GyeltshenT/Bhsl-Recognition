{
 "cells": [
  {
   "cell_type": "code",
   "execution_count": 1,
   "metadata": {},
   "outputs": [],
   "source": [
    "import numpy as np\n",
    "from sklearn.model_selection import train_test_split, GridSearchCV\n",
    "from sklearn.ensemble import RandomForestClassifier, GradientBoostingClassifier, StackingClassifier\n",
    "from sklearn.linear_model import LogisticRegression\n",
    "from sklearn.svm import SVC\n",
    "from sklearn.preprocessing import StandardScaler\n",
    "from sklearn.metrics import classification_report\n",
    "from sklearn.pipeline import make_pipeline\n",
    "import pickle"
   ]
  },
  {
   "cell_type": "code",
   "execution_count": 2,
   "metadata": {},
   "outputs": [
    {
     "name": "stdout",
     "output_type": "stream",
     "text": [
      "              precision    recall  f1-score   support\n",
      "\n",
      "           0       0.85      0.83      0.84        86\n",
      "           1       0.81      0.88      0.84        66\n",
      "           2       0.97      0.99      0.98        73\n",
      "           3       0.83      0.77      0.80        84\n",
      "           4       0.92      0.95      0.93        59\n",
      "           5       0.75      0.87      0.80        61\n",
      "           6       0.95      0.82      0.88        67\n",
      "           7       0.90      0.88      0.89        74\n",
      "\n",
      "    accuracy                           0.87       570\n",
      "   macro avg       0.87      0.87      0.87       570\n",
      "weighted avg       0.87      0.87      0.87       570\n",
      "\n",
      "Train Score: 1.0\n",
      "Test Score: 0.868421052631579\n"
     ]
    }
   ],
   "source": [
    "# Load dataset\n",
    "features = np.load('features.npy')\n",
    "labels = np.load('target.npy')\n",
    "\n",
    "# Split the dataset into training and testing sets\n",
    "X_train, X_test, y_train, y_test = train_test_split(features, labels, test_size=0.2, random_state=42)\n",
    "\n",
    "# Base models\n",
    "base_models = [\n",
    "    ('rf', make_pipeline(StandardScaler(), RandomForestClassifier(n_estimators=100, random_state=42))),\n",
    "    ('gb', make_pipeline(StandardScaler(), GradientBoostingClassifier(random_state=42))),\n",
    "    ('svc', make_pipeline(StandardScaler(), SVC(probability=True, random_state=42)))\n",
    "]\n",
    "\n",
    "# Meta-model\n",
    "meta_model = LogisticRegression()\n",
    "\n",
    "# Stacking Classifier\n",
    "stacking_clf = StackingClassifier(estimators=base_models, final_estimator=meta_model, cv=5)\n",
    "\n",
    "# Train the stacking classifier\n",
    "stacking_clf.fit(X_train, y_train)\n",
    "\n",
    "# Predict the test set results\n",
    "y_pred = stacking_clf.predict(X_test)\n",
    "\n",
    "# Evaluate the results\n",
    "print(classification_report(y_test, y_pred))\n",
    "print('Train Score:', stacking_clf.score(X_train, y_train))\n",
    "print('Test Score:', stacking_clf.score(X_test, y_test))\n",
    "\n",
    "# Save the best model using pickle\n",
    "with open('stacking_model.pkl', 'wb') as f:\n",
    "    pickle.dump(stacking_clf, f)"
   ]
  },
  {
   "cell_type": "code",
   "execution_count": null,
   "metadata": {},
   "outputs": [],
   "source": []
  }
 ],
 "metadata": {
  "kernelspec": {
   "display_name": "Python 3",
   "language": "python",
   "name": "python3"
  },
  "language_info": {
   "codemirror_mode": {
    "name": "ipython",
    "version": 3
   },
   "file_extension": ".py",
   "mimetype": "text/x-python",
   "name": "python",
   "nbconvert_exporter": "python",
   "pygments_lexer": "ipython3",
   "version": "3.12.3"
  }
 },
 "nbformat": 4,
 "nbformat_minor": 2
}
